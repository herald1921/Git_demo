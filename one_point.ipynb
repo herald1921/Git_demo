{
  "nbformat": 4,
  "nbformat_minor": 0,
  "metadata": {
    "colab": {
      "provenance": [],
      "mount_file_id": "1Fr665EksAwXvdwgMhJT1vn8RUnUx_85_",
      "authorship_tag": "ABX9TyPTHrVpzMim+Kf2Sd23Y6Is",
      "include_colab_link": true
    },
    "kernelspec": {
      "name": "python3",
      "display_name": "Python 3"
    },
    "language_info": {
      "name": "python"
    }
  },
  "cells": [
    {
      "cell_type": "markdown",
      "metadata": {
        "id": "view-in-github",
        "colab_type": "text"
      },
      "source": [
        "<a href=\"https://colab.research.google.com/github/herald1921/Git_demo/blob/master/one_point.ipynb\" target=\"_parent\"><img src=\"https://colab.research.google.com/assets/colab-badge.svg\" alt=\"Open In Colab\"/></a>"
      ]
    },
    {
      "cell_type": "code",
      "source": [
        "import matplotlib.pyplot as plt\n",
        "import numpy as np\n",
        "import random\n",
        "\n",
        "import torch\n",
        "import torch.nn as nn\n",
        "import io\n",
        "\n",
        "from PIL import Image\n",
        "import math"
      ],
      "metadata": {
        "id": "hU5KR7DwswdU"
      },
      "execution_count": 8,
      "outputs": []
    },
    {
      "cell_type": "code",
      "source": [
        "def set_seed(seed=42):\n",
        "\n",
        "  random.seed(seed)\n",
        "  np.random.seed(seed)\n",
        "  torch.manual_seed(seed)\n",
        "  torch.cuda.manual_seed(seed)\n",
        "  torch.cuda.manual_seed_all(seed)\n",
        "\n",
        "  torch.backends.cudnn.deterministic = True\n",
        "  torch.backends.cudnn.benchmark = False\n",
        "\n",
        "def get_device():\n",
        "  if torch.cuda.is_available():\n",
        "      device = torch.device(\"cuda\")\n",
        "      print(f\"使用 GPU: {torch.cuda.get_device_name(0)}\")\n",
        "  else:\n",
        "      device = torch.device(\"cpu\")\n",
        "      print(\"使用 CPU\")\n",
        "  return device"
      ],
      "metadata": {
        "id": "IFiHT1vfs5Ss"
      },
      "execution_count": 9,
      "outputs": []
    },
    {
      "cell_type": "code",
      "source": [
        "def generate_data():\n",
        "  data = np.zeros((128, 2))\n",
        "  # 绘图\n",
        "  plt.figure(figsize=(6, 6))\n",
        "  plt.plot(data[:, 0], data[:, 1], 'ro')\n",
        "  plt.xlabel('X')\n",
        "  plt.ylabel('Y')\n",
        "  plt.title('Generated Data')\n",
        "  plt.grid(True)\n",
        "  plt.show()\n",
        "  return data"
      ],
      "metadata": {
        "id": "oCVc4dwIuiGx"
      },
      "execution_count": 17,
      "outputs": []
    },
    {
      "cell_type": "code",
      "source": [
        "def main():\n",
        "  set_seed(42)\n",
        "  device = get_device()\n",
        "  data = generate_data()\n",
        "\n",
        "  # 示例：创建一个小张量并移动到设备\n",
        "  x = torch.tensor([1.0, 2.0, 3.0], device=device)\n",
        "  y = torch.tensor([4.0, 5.0, 6.0], device=device)\n",
        "\n",
        "  # 简单的计算\n",
        "  with torch.no_grad():  # 避免计算图构建，节省显存\n",
        "      z = x + y\n",
        "      print(f\"计算结果: {z}\")\n",
        "\n",
        "if __name__ == \"__main__\":\n",
        "  main()"
      ],
      "metadata": {
        "colab": {
          "base_uri": "https://localhost:8080/",
          "height": 600
        },
        "id": "SUrvupWfteiN",
        "outputId": "1dd59a5a-d678-4024-cf1b-af4c34b2f631"
      },
      "execution_count": 18,
      "outputs": [
        {
          "output_type": "stream",
          "name": "stdout",
          "text": [
            "使用 CPU\n"
          ]
        },
        {
          "output_type": "display_data",
          "data": {
            "text/plain": [
              "<Figure size 600x600 with 1 Axes>"
            ],
            "image/png": "[encoded data removed]"
          },
          "metadata": {}
        },
        {
          "output_type": "stream",
          "name": "stdout",
          "text": [
            "计算结果: tensor([5., 7., 9.])\n"
          ]
        }
      ]
    }
  ]
}